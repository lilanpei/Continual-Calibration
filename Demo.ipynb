{
  "cells": [
    {
      "cell_type": "markdown",
      "metadata": {
        "id": "XDJcoP3_vHMW"
      },
      "source": [
        "# Continual Calibration"
      ]
    },
    {
      "cell_type": "markdown",
      "source": [
        "## Set up the Environment"
      ],
      "metadata": {
        "id": "uY0nbxS3KEBK"
      }
    },
    {
      "cell_type": "markdown",
      "metadata": {
        "id": "nCvNnLHSxQc1"
      },
      "source": [
        "Install conda on colab:"
      ]
    },
    {
      "cell_type": "code",
      "execution_count": null,
      "metadata": {
        "id": "JQqH3Rm0wSzh"
      },
      "outputs": [],
      "source": [
        "!pip install -q condacolab\n",
        "import condacolab\n",
        "condacolab.install()"
      ]
    },
    {
      "cell_type": "markdown",
      "metadata": {
        "id": "fpRb_JZwxikg"
      },
      "source": [
        "Clone the repository from GitHub:"
      ]
    },
    {
      "cell_type": "code",
      "execution_count": null,
      "metadata": {
        "id": "x3J53b5fuvPg"
      },
      "outputs": [],
      "source": [
        "!git clone https://github.com/lilanpei/Continual-Calibration.git"
      ]
    },
    {
      "cell_type": "markdown",
      "metadata": {
        "id": "KgKRe4LyyI5V"
      },
      "source": [
        "Update base environment from YAML file:\n"
      ]
    },
    {
      "cell_type": "code",
      "execution_count": null,
      "metadata": {
        "id": "ieQMvm9R08Od"
      },
      "outputs": [],
      "source": [
        "!conda env update -n base -f Continual-Calibration/environment.yml"
      ]
    },
    {
      "cell_type": "markdown",
      "metadata": {
        "id": "Gb6yjp5C2rw2"
      },
      "source": [
        "Load the TensorBoard notebook extension:"
      ]
    },
    {
      "cell_type": "code",
      "execution_count": null,
      "metadata": {
        "id": "KvNWbh_m2Kve"
      },
      "outputs": [],
      "source": [
        "%load_ext tensorboard"
      ]
    },
    {
      "cell_type": "markdown",
      "source": [
        "## Experimental Results"
      ],
      "metadata": {
        "id": "Y6S9r-xvJ9jo"
      }
    },
    {
      "cell_type": "markdown",
      "source": [
        "### SplitMNIST + SimpleMLP"
      ],
      "metadata": {
        "id": "uzSYHPyALdDa"
      }
    },
    {
      "cell_type": "markdown",
      "source": [
        "#### JointTraining"
      ],
      "metadata": {
        "id": "QL0A3GiqHz7G"
      }
    },
    {
      "cell_type": "markdown",
      "source": [
        "##### Self-Training **OFF** + Post-Processing **OFF**"
      ],
      "metadata": {
        "id": "gaYyMmJWv97n"
      }
    },
    {
      "cell_type": "code",
      "source": [
        "!python Continual-Calibration/main.py -sn \"JointTraining\""
      ],
      "metadata": {
        "id": "C9sCpsKTIaGy"
      },
      "execution_count": null,
      "outputs": []
    },
    {
      "cell_type": "code",
      "source": [
        "%tensorboard --logdir logs"
      ],
      "metadata": {
        "id": "KNumKU__w92a"
      },
      "execution_count": null,
      "outputs": []
    },
    {
      "cell_type": "markdown",
      "source": [
        "##### Self-Training **ON** + Post-Processing **OFF**"
      ],
      "metadata": {
        "id": "5hJZw_RdwBW4"
      }
    },
    {
      "cell_type": "code",
      "source": [
        "!python Continual-Calibration/main.py -sn \"JointTraining\" -stcm"
      ],
      "metadata": {
        "id": "ynDY8U8wfcSi"
      },
      "execution_count": null,
      "outputs": []
    },
    {
      "cell_type": "code",
      "source": [
        "%tensorboard --logdir logs"
      ],
      "metadata": {
        "id": "z4_EoiE0w8ZB"
      },
      "execution_count": null,
      "outputs": []
    },
    {
      "cell_type": "markdown",
      "source": [
        "##### Self-Training **OFF** + Post-Processing **ON**"
      ],
      "metadata": {
        "id": "T_cz6TNIwIYj"
      }
    },
    {
      "cell_type": "code",
      "source": [
        "!python Continual-Calibration/main.py -sn \"JointTraining\" -ppcm"
      ],
      "metadata": {
        "id": "ezk4dEAAfgXm"
      },
      "execution_count": null,
      "outputs": []
    },
    {
      "cell_type": "code",
      "source": [
        "%tensorboard --logdir logs"
      ],
      "metadata": {
        "id": "1gWHYeShw51s"
      },
      "execution_count": null,
      "outputs": []
    },
    {
      "cell_type": "markdown",
      "source": [
        "##### Self-Training **ON** + Post-Processing **ON**"
      ],
      "metadata": {
        "id": "UGncCsBHwPh-"
      }
    },
    {
      "cell_type": "code",
      "source": [
        "!python Continual-Calibration/main.py -sn \"JointTraining\" -stcm -ppcm"
      ],
      "metadata": {
        "id": "cds1FytXwNyi"
      },
      "execution_count": null,
      "outputs": []
    },
    {
      "cell_type": "code",
      "execution_count": null,
      "metadata": {
        "id": "Im07VWCC25JF"
      },
      "outputs": [],
      "source": [
        "%tensorboard --logdir logs"
      ]
    },
    {
      "cell_type": "markdown",
      "source": [
        "#### Naive"
      ],
      "metadata": {
        "id": "MKxbQs46JwIA"
      }
    },
    {
      "cell_type": "markdown",
      "source": [
        "##### Self-Training **OFF** + Post-Processing **OFF**\n",
        "\n"
      ],
      "metadata": {
        "id": "IwSSdxaoJqwh"
      }
    },
    {
      "cell_type": "code",
      "source": [
        "!python Continual-Calibration/main.py -tp 5"
      ],
      "metadata": {
        "id": "1POmLKirJcx-"
      },
      "execution_count": null,
      "outputs": []
    },
    {
      "cell_type": "code",
      "source": [
        "%tensorboard --logdir logs"
      ],
      "metadata": {
        "id": "4qVRnDNVLSpO"
      },
      "execution_count": null,
      "outputs": []
    },
    {
      "cell_type": "markdown",
      "source": [
        "##### Self-Training **ON** + Post-Processing **OFF**"
      ],
      "metadata": {
        "id": "rBQ3kFItMngx"
      }
    },
    {
      "cell_type": "code",
      "source": [
        "!python Continual-Calibration/main.py -tp 5 -stcm"
      ],
      "metadata": {
        "id": "sANaVuNxM4YK"
      },
      "execution_count": null,
      "outputs": []
    },
    {
      "cell_type": "code",
      "source": [
        "%tensorboard --logdir logs"
      ],
      "metadata": {
        "id": "kupcYmVXNOdJ"
      },
      "execution_count": null,
      "outputs": []
    },
    {
      "cell_type": "markdown",
      "source": [
        "##### Self-Training **OFF** + Post-Processing **ON**"
      ],
      "metadata": {
        "id": "S07PqcX9Nukv"
      }
    },
    {
      "cell_type": "code",
      "source": [
        "!python Continual-Calibration/main.py -tp 5 -ppcm"
      ],
      "metadata": {
        "id": "WSzpX21fOFqR"
      },
      "execution_count": null,
      "outputs": []
    },
    {
      "cell_type": "code",
      "source": [
        "%tensorboard --logdir logs"
      ],
      "metadata": {
        "id": "M9A8fxnsORLw"
      },
      "execution_count": null,
      "outputs": []
    },
    {
      "cell_type": "markdown",
      "source": [
        "##### Self-Training **ON** + Post-Processing **ON**"
      ],
      "metadata": {
        "id": "puJBlpUUOTK3"
      }
    },
    {
      "cell_type": "code",
      "source": [
        "!python Continual-Calibration/main.py -tp 5 -stcm -ppcm"
      ],
      "metadata": {
        "id": "zzVugQqBQfBV"
      },
      "execution_count": null,
      "outputs": []
    },
    {
      "cell_type": "code",
      "source": [
        "%tensorboard --logdir logs"
      ],
      "metadata": {
        "id": "lbAS1wPVTUXW"
      },
      "execution_count": null,
      "outputs": []
    },
    {
      "cell_type": "markdown",
      "source": [
        "#### Replay"
      ],
      "metadata": {
        "id": "DjfwpvrFSBil"
      }
    },
    {
      "cell_type": "markdown",
      "source": [
        "##### Self-Training **OFF** + Post-Processing **OFF**\n",
        "\n"
      ],
      "metadata": {
        "id": "2DlO41hcSP42"
      }
    },
    {
      "cell_type": "code",
      "source": [
        "!python Continual-Calibration/main.py -tp 5 -sn \"Replay\""
      ],
      "metadata": {
        "id": "uJCw_uFMSP42"
      },
      "execution_count": null,
      "outputs": []
    },
    {
      "cell_type": "code",
      "source": [
        "%tensorboard --logdir logs"
      ],
      "metadata": {
        "id": "QQRx1ZP4SP42"
      },
      "execution_count": null,
      "outputs": []
    },
    {
      "cell_type": "markdown",
      "source": [
        "##### Self-Training **ON** + Post-Processing **OFF**"
      ],
      "metadata": {
        "id": "6TAjftLYSP43"
      }
    },
    {
      "cell_type": "code",
      "source": [
        "!python Continual-Calibration/main.py -tp 5 -sn \"Replay\" -stcm"
      ],
      "metadata": {
        "id": "SbKr-0oySP43"
      },
      "execution_count": null,
      "outputs": []
    },
    {
      "cell_type": "code",
      "source": [
        "%tensorboard --logdir logs"
      ],
      "metadata": {
        "id": "D7UgcqqjSP43"
      },
      "execution_count": null,
      "outputs": []
    },
    {
      "cell_type": "markdown",
      "source": [
        "##### Self-Training **OFF** + Post-Processing **ON**"
      ],
      "metadata": {
        "id": "Bh8OZ18-SP43"
      }
    },
    {
      "cell_type": "code",
      "source": [
        "!python Continual-Calibration/main.py -tp 5 -sn \"Replay\" -ppcm"
      ],
      "metadata": {
        "id": "OpZBL4GKSP43"
      },
      "execution_count": null,
      "outputs": []
    },
    {
      "cell_type": "code",
      "source": [
        "%tensorboard --logdir logs"
      ],
      "metadata": {
        "id": "Q9f9HOj9SP43"
      },
      "execution_count": null,
      "outputs": []
    },
    {
      "cell_type": "markdown",
      "source": [
        "##### Self-Training **ON** + Post-Processing **ON**"
      ],
      "metadata": {
        "id": "3q62Sm7fSP43"
      }
    },
    {
      "cell_type": "code",
      "source": [
        "!python Continual-Calibration/main.py -tp 5 -sn \"Replay\" -stcm -ppcm"
      ],
      "metadata": {
        "id": "han7sOQfTeiC"
      },
      "execution_count": null,
      "outputs": []
    },
    {
      "cell_type": "code",
      "source": [
        "%tensorboard --logdir logs"
      ],
      "metadata": {
        "id": "gaSZPsa8QnuF"
      },
      "execution_count": null,
      "outputs": []
    },
    {
      "cell_type": "code",
      "source": [
        "!tar -czvf logs.tar.gz logs/"
      ],
      "metadata": {
        "id": "YrevR-bG9AM6"
      },
      "execution_count": null,
      "outputs": []
    }
  ],
  "metadata": {
    "colab": {
      "provenance": [],
      "toc_visible": true
    },
    "kernelspec": {
      "display_name": "Python 3",
      "name": "python3"
    },
    "language_info": {
      "name": "python"
    }
  },
  "nbformat": 4,
  "nbformat_minor": 0
}